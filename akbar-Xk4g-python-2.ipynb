{
 "cells": [
  {
   "cell_type": "markdown",
   "id": "cd7fcaf1",
   "metadata": {
    "id": "cd7fcaf1"
   },
   "source": [
    "# Tugas Python 2\n",
    "\n",
    "* Silakan download dan kerjakan soal berikut dimanapun (laptop pribadi/google colab/etc.)\n",
    "* Setelah selesai mengerjakan, upload file ini di tempat yang telah disediakan pada platform.\n",
    "* Beri nama file seperti berikut: {username}-python-2.ipynb\n",
    "* Contoh: johndoe1-python-2.ipynb\n",
    "* Username dapat dilihat di dalam akun anda.\n",
    "* Mohon jangan mengubah nama variabel yang telah diberikan.\n",
    "* Namun anda diperbolehkan untuk menambah variabel apapun.\n",
    "---"
   ]
  },
  {
   "cell_type": "markdown",
   "id": "08c5daf8",
   "metadata": {
    "id": "08c5daf8"
   },
   "source": [
    "# Case 1: UKT"
   ]
  },
  {
   "cell_type": "markdown",
   "id": "52a2757e",
   "metadata": {
    "id": "52a2757e"
   },
   "source": [
    "1. Universitas X menerapkan sistem uang kuliah tunggal (UKT) untuk membayar kuliah, dimana terdapat tiga golongan. Setiap golongan akan membayar uang kuliah per semesternya sebagai berikut:\n",
    "|Golongan|Uang Kuliah per Semester|\n",
    "|------|-----|\n",
    "|I|Rp 2.000.000|\n",
    "|II|Rp 3.500.000|\n",
    "|III|Rp 5.000.000|\n",
    "\n",
    "Untuk melunasi uang semesteran, mahasiswa dapat memilih dua pilihan pembayaran: langsung lunas atau mencicil. Apabila mahasiswa memilih langsung lunas, maka uang semesteran hanya dibayar sekali. Apabila mahasiswa memilih mencicil, maka uang semesteran akan dicicil sebanyak dua kali dengan besar cicilan pertama sama dengan besar cicilan kedua.\\\n",
    "Buatlah program yang menerima input berupa golongan (`'I'/'II'/'III'`) dan pilihan pembayaran (`'L'/'C'`), dan outputnya adalah besar pembayaran (bila memilih langsung lunas (`'L'`)) atau besar cicilan (bila memilih mencicil (`'C'`)).\n",
    "\n",
    "Apabila Budi merupakan mahasiswa golongan II dan ia memilih membayar uang semesterannya dengan mencicil, berapa cicilannya? Jawaban harus berupa integer."
   ]
  },
  {
   "cell_type": "code",
   "execution_count": 1,
   "id": "637ca5c3",
   "metadata": {
    "id": "637ca5c3"
   },
   "outputs": [],
   "source": [
    "def jawaban_1(golongan,pilihan):\n",
    "    if golongan == 'I' and pilihan == 'C':\n",
    "        output = int(2000000/2)\n",
    "    elif golongan == 'II' and pilihan == 'C':\n",
    "        output = int(3500000/2)\n",
    "    elif golongan == 'III' and pilihan == 'C':\n",
    "        output = int(5000000/2)\n",
    "    elif golongan == 'I' and pilihan == 'L':\n",
    "        output = int(2000000)\n",
    "    elif golongan == 'II' and pilihan == 'L':\n",
    "        output = int(3500000)\n",
    "    elif golongan == 'III' and pilihan == 'L':\n",
    "        output = int(5000000)\n",
    "    return output"
   ]
  },
  {
   "cell_type": "code",
   "execution_count": 2,
   "id": "d161fd35",
   "metadata": {
    "id": "d161fd35",
    "outputId": "29bcc245-60c7-4504-9f38-794336f66e35"
   },
   "outputs": [
    {
     "name": "stdout",
     "output_type": "stream",
     "text": [
      "1750000\n"
     ]
    }
   ],
   "source": [
    "print(jawaban_1('II','C'))"
   ]
  },
  {
   "cell_type": "code",
   "execution_count": 3,
   "id": "42019355-6389-4909-8ebb-95811599a7f8",
   "metadata": {},
   "outputs": [
    {
     "data": {
      "text/plain": [
       "function"
      ]
     },
     "execution_count": 3,
     "metadata": {},
     "output_type": "execute_result"
    }
   ],
   "source": [
    "type(jawaban_1)"
   ]
  },
  {
   "cell_type": "code",
   "execution_count": 4,
   "id": "30db8fd6",
   "metadata": {
    "id": "30db8fd6",
    "outputId": "2cf27002-1af3-4baf-ebb9-70f87542b7ed"
   },
   "outputs": [
    {
     "data": {
      "text/plain": [
       "int"
      ]
     },
     "execution_count": 4,
     "metadata": {},
     "output_type": "execute_result"
    }
   ],
   "source": [
    "type(jawaban_1('II','C'))"
   ]
  },
  {
   "cell_type": "markdown",
   "id": "df422126",
   "metadata": {
    "id": "df422126"
   },
   "source": [
    "## Case 2: Approx"
   ]
  },
  {
   "cell_type": "markdown",
   "id": "a3fe2983",
   "metadata": {
    "id": "a3fe2983",
    "outputId": "c7fbbba2-85c4-4d93-fa32-accb9b070ed8"
   },
   "source": [
    "2. Nyatakanlah fungsi berikut $x^3 - 8$ menggunakan lambda"
   ]
  },
  {
   "cell_type": "markdown",
   "id": "96c6b607",
   "metadata": {
    "id": "96c6b607"
   },
   "source": [
    "Contoh:<br>\n",
    "$x^2 + 2x - 1  = 0$ ----> func = lambda x: x\\*\\*2 +2\\*x -1<br>\n",
    "$x^6 - 10  = 0$ -----> func = lambda x: x\\*\\*6 - 10<br>"
   ]
  },
  {
   "cell_type": "code",
   "execution_count": 5,
   "id": "f121a66f",
   "metadata": {
    "id": "f121a66f"
   },
   "outputs": [],
   "source": [
    "func = lambda x : x**3 - 8 # Isikan dengan kode yang sesuai"
   ]
  },
  {
   "cell_type": "code",
   "execution_count": 6,
   "id": "0bb9fa6e",
   "metadata": {
    "id": "0bb9fa6e",
    "outputId": "3dcb395a-174a-4bff-c049-2fbb674668a2"
   },
   "outputs": [
    {
     "data": {
      "text/plain": [
       "504"
      ]
     },
     "execution_count": 6,
     "metadata": {},
     "output_type": "execute_result"
    }
   ],
   "source": [
    "func(8)"
   ]
  },
  {
   "cell_type": "code",
   "execution_count": 7,
   "id": "4ef062b0",
   "metadata": {
    "id": "4ef062b0",
    "outputId": "9b8af5be-7e68-4814-8523-6a12f0f3a7a8"
   },
   "outputs": [
    {
     "data": {
      "text/plain": [
       "992"
      ]
     },
     "execution_count": 7,
     "metadata": {},
     "output_type": "execute_result"
    }
   ],
   "source": [
    "func(10)"
   ]
  },
  {
   "cell_type": "markdown",
   "id": "aa63899b",
   "metadata": {
    "id": "aa63899b"
   },
   "source": [
    "3. Dengan menggunakan konsep fungsi epsilon, aproksimasi solusi dari fungsi lambda tadi untuk f(x)=0 dengan nilai $\\varepsilon = 0.05$ dan _increment_ 0.001. Print hasilnya dengan pembulatan 3 angka di belakang koma. <br><br>\n",
    "Fungsi harus menerima argumanen:\n",
    "<ul>\n",
    "    <li>func = Fungsi dalam bentuk lambda</li>\n",
    "    <li>y = Hasil untuk fungsi(x)=y</li>\n",
    "    <li>epsilon = Nilai epsilon dengan nilai default adalah 0.05</li>\n",
    "    <li>increment = Nilai increment/penambahan dengan nilai default adalah 0.001</li>\n",
    "    <li>max_guess = Jumlah maksimum tebakan dengan nilai default adalah 10.000</li>\n",
    "</ul><br>\n",
    "dan return: hasil approximasi"
   ]
  },
  {
   "cell_type": "code",
   "execution_count": 8,
   "id": "fb025689-e1dd-43d6-acf7-58151ea14552",
   "metadata": {},
   "outputs": [
    {
     "name": "stdout",
     "output_type": "stream",
     "text": [
      "1.996\n"
     ]
    }
   ],
   "source": [
    "x = 0\n",
    "y = 0\n",
    "increment = 0.001\n",
    "epsilon = 0.05\n",
    "num_guess = 0\n",
    "\n",
    "while abs(x**3 - 8) - y >= epsilon and num_guess <= 10000:\n",
    "    x+=increment\n",
    "    num_guess += 1\n",
    "print(round(x,3))"
   ]
  },
  {
   "cell_type": "code",
   "execution_count": 9,
   "id": "be08951f",
   "metadata": {
    "id": "be08951f"
   },
   "outputs": [],
   "source": [
    "def approx(func, y, epsilon=0.05, increment=0.001, max_guess=10000):\n",
    "    x = 0\n",
    "    num_guess = 0\n",
    "    while abs(func(x)-y) >= epsilon and num_guess <= max_guess:\n",
    "        x += increment\n",
    "        num_guess += 1\n",
    "    return x"
   ]
  },
  {
   "cell_type": "code",
   "execution_count": 10,
   "id": "7e96146b",
   "metadata": {
    "id": "7e96146b",
    "outputId": "0e36ca40-7736-4dcc-d929-f584c05bdf23"
   },
   "outputs": [
    {
     "name": "stdout",
     "output_type": "stream",
     "text": [
      "1.996\n"
     ]
    }
   ],
   "source": [
    "print(f'{approx(func,0):.3f}') # lengkapi agar dapat mencetak 3 angka di belakang koma"
   ]
  },
  {
   "cell_type": "markdown",
   "id": "2c595160",
   "metadata": {
    "id": "2c595160"
   },
   "source": [
    "4. Jika fungsi diganti menjadi $x^9 + 2x^8 - 0.044$, berapakah aproksimasi solusi dari f(x)=10?<br>\n",
    "Note: Gunakan fungsi yang telah dibuat"
   ]
  },
  {
   "cell_type": "code",
   "execution_count": 11,
   "id": "5087dc4a",
   "metadata": {
    "id": "5087dc4a",
    "outputId": "e6bff6ea-2128-434e-d8db-45e93938fa37"
   },
   "outputs": [
    {
     "name": "stdout",
     "output_type": "stream",
     "text": [
      "1.156\n"
     ]
    }
   ],
   "source": [
    "func = lambda x: x**9 + 2*x**8 - 0.044 # Isikan dengan kode yang sesuai\n",
    "y = 10\n",
    "\n",
    "print(f'{approx(func,y):.3f}') # lengkapi agar dapat mencetak 3 angka di belakang koma"
   ]
  },
  {
   "cell_type": "markdown",
   "id": "99593620",
   "metadata": {
    "id": "99593620"
   },
   "source": [
    "# Case 3: List and Tuple"
   ]
  },
  {
   "cell_type": "code",
   "execution_count": 12,
   "id": "31df0f7e",
   "metadata": {
    "id": "31df0f7e"
   },
   "outputs": [],
   "source": [
    "list_ = [1,[2,3],0.4,(5,6),[7,8],9.10,11,(12,13,14),15]"
   ]
  },
  {
   "cell_type": "markdown",
   "id": "00c000b8",
   "metadata": {
    "id": "00c000b8"
   },
   "source": [
    "5. Ambilah angka 6 dari list_!"
   ]
  },
  {
   "cell_type": "code",
   "execution_count": 13,
   "id": "59e9eefb",
   "metadata": {
    "id": "59e9eefb",
    "outputId": "72f3532f-bdde-4e02-d53b-dc46627d58c3"
   },
   "outputs": [
    {
     "name": "stdout",
     "output_type": "stream",
     "text": [
      "6\n"
     ]
    }
   ],
   "source": [
    "jawaban_5 = list_[3][1] # Isikan dengan kode yang sesuai\n",
    "print(jawaban_5)"
   ]
  },
  {
   "cell_type": "markdown",
   "id": "a6e85b54",
   "metadata": {
    "id": "a6e85b54"
   },
   "source": [
    "6. Kalikan angka 8 pada list_ dengan 2 dan gantikan angka tersebut dengan hasil perkaliannya!"
   ]
  },
  {
   "cell_type": "code",
   "execution_count": 14,
   "id": "a0c2a14a",
   "metadata": {
    "id": "a0c2a14a",
    "outputId": "dbd4c8d8-515d-4e75-80bc-60bc713b00c5"
   },
   "outputs": [
    {
     "name": "stdout",
     "output_type": "stream",
     "text": [
      "[1, [2, 3], 0.4, (5, 6), [7, 16], 9.1, 11, (12, 13, 14), 15]\n"
     ]
    }
   ],
   "source": [
    "list_[4][1]=list_[4][1]*2 # Isikan dengan kode yang sesuai\n",
    "\n",
    "print(list_)"
   ]
  },
  {
   "cell_type": "markdown",
   "id": "0c950257",
   "metadata": {
    "id": "0c950257"
   },
   "source": [
    "7. Buatlah sebuah fungsi yang akan mengembalikan tipe data dari elemen-elemen di sebuah list!<br>\n",
    "Input: list <br>Output: list berisi tipe data\n"
   ]
  },
  {
   "cell_type": "code",
   "execution_count": 15,
   "id": "9322842e",
   "metadata": {
    "id": "9322842e"
   },
   "outputs": [],
   "source": [
    "def jawaban_7(list_input):\n",
    "    result=[type(x) for x in list_input]\n",
    "    \n",
    "    return result"
   ]
  },
  {
   "cell_type": "code",
   "execution_count": 16,
   "id": "fb90566b",
   "metadata": {
    "id": "fb90566b",
    "outputId": "b430fbd6-e00e-4178-faba-061c2c9168ab"
   },
   "outputs": [
    {
     "data": {
      "text/plain": [
       "[int, list, float, tuple, list, float, int, tuple, int]"
      ]
     },
     "execution_count": 16,
     "metadata": {},
     "output_type": "execute_result"
    }
   ],
   "source": [
    "jawaban_7(list_)"
   ]
  },
  {
   "cell_type": "markdown",
   "id": "c973592c",
   "metadata": {
    "id": "c973592c"
   },
   "source": [
    "## Case 4: Char Frequency"
   ]
  },
  {
   "cell_type": "markdown",
   "id": "a4c9b9a4",
   "metadata": {
    "id": "a4c9b9a4"
   },
   "source": [
    "8. Buatlah sebuah fungsi untuk menentukan apakah sebuah kata memiliki huruf yang berulang!<br>\n",
    "Hint: \n",
    "<br>1. Gunakan type casting dari string ke set untuk mendapatkan huruf unik di string kata.\n",
    "<br>2. Cek apakah hasil type casting dan string kata memiliki panjang yang sama."
   ]
  },
  {
   "cell_type": "code",
   "execution_count": 17,
   "id": "9fd229e8",
   "metadata": {
    "id": "9fd229e8"
   },
   "outputs": [],
   "source": [
    "def jawaban_8(kata):\n",
    "    set_kata = set(kata)\n",
    "    list_kata = list(set_kata)\n",
    "    if len(list(kata)) == len(list_kata):\n",
    "        result = print('True')\n",
    "    else:\n",
    "        result = print('False')\n",
    "    return result\n",
    "        \n",
    "    # Tuliskan kode anda di sini"
   ]
  },
  {
   "cell_type": "code",
   "execution_count": 18,
   "id": "6dffb9e4",
   "metadata": {
    "id": "6dffb9e4",
    "outputId": "bed69e0b-165b-4edb-fb54-5ee9ecaf795d"
   },
   "outputs": [
    {
     "name": "stdout",
     "output_type": "stream",
     "text": [
      "True\n"
     ]
    }
   ],
   "source": [
    "jawaban_8('rumah')"
   ]
  },
  {
   "cell_type": "code",
   "execution_count": 19,
   "id": "2157bd68",
   "metadata": {
    "id": "2157bd68",
    "outputId": "44a7d93b-276d-412a-87f0-e83d854beba2"
   },
   "outputs": [
    {
     "name": "stdout",
     "output_type": "stream",
     "text": [
      "False\n"
     ]
    }
   ],
   "source": [
    "jawaban_8('apa')"
   ]
  },
  {
   "cell_type": "markdown",
   "id": "ca49b79e",
   "metadata": {
    "id": "ca49b79e"
   },
   "source": [
    "9. Buatlah sebuah fungsi yang menghitung kemunculan huruf di sebuah kata!"
   ]
  },
  {
   "cell_type": "markdown",
   "id": "79af8cf1",
   "metadata": {
    "id": "79af8cf1"
   },
   "source": [
    "Input: string kata<br>\n",
    "Output: dictionary dengan *key-value pair* berupa huruf-frekuensi <br>\n",
    "Hint:<br>\n",
    "1. Looping huruf di input kata\n",
    "2. Jika huruf **tidak berada** di dictionary, maka akan membuat *key-value pair* baru\n",
    "3. Jika huruf **sudah berada** di dictionary, maka akan menambahkan 1 di *value*-nya"
   ]
  },
  {
   "cell_type": "code",
   "execution_count": 20,
   "id": "775f1499",
   "metadata": {
    "id": "775f1499"
   },
   "outputs": [],
   "source": [
    "def jawaban_9(kata):\n",
    "    kata_2 = {}\n",
    "    for i in kata:\n",
    "        if i in kata_2:\n",
    "            kata_2[i] += 1\n",
    "        else:\n",
    "            kata_2[i] = 1\n",
    "    return kata_2\n",
    "    # Tuliskan kode anda di sini"
   ]
  },
  {
   "cell_type": "code",
   "execution_count": 21,
   "id": "18f536dc",
   "metadata": {
    "id": "18f536dc",
    "outputId": "a372d4cb-0fa8-4178-a796-b548ff37b283"
   },
   "outputs": [
    {
     "name": "stdout",
     "output_type": "stream",
     "text": [
      "{'h': 3, 'e': 4, 'k': 5, 's': 4, 'a': 4, 'o': 4, 'i': 3, 'n': 1, 't': 1, 'f': 1, 'b': 1}\n"
     ]
    }
   ],
   "source": [
    "print(jawaban_9('heksakosioiheksekontaheksafobia'))"
   ]
  },
  {
   "cell_type": "markdown",
   "id": "814e02d2",
   "metadata": {
    "id": "814e02d2"
   },
   "source": [
    "# Case 5: Harmonic"
   ]
  },
  {
   "cell_type": "markdown",
   "id": "d8fc7391",
   "metadata": {
    "id": "d8fc7391"
   },
   "source": [
    "10. Gunakan konsep pemrograman rekursif untuk menghitung jumlah $n$ suku pertama deret harmonik. Deret harmonik adalah deret sbb:\n",
    "$$H(n) = 1 + \\frac{1}{2} + \\frac{1}{3} + \\frac{1}{4} + \\frac{1}{5} + \\dots + \\frac{1}{n}$$\n",
    "Kemudian keluarkan jumlah 4 suku pertama deret harmonik.\\\n",
    "_Expected output_: 2.083333333333333."
   ]
  },
  {
   "cell_type": "code",
   "execution_count": 22,
   "id": "271b4a38",
   "metadata": {
    "id": "271b4a38",
    "outputId": "6361a52a-a721-437d-f9e0-55d5327d0d4e"
   },
   "outputs": [
    {
     "name": "stdout",
     "output_type": "stream",
     "text": [
      "2.083333333333333\n"
     ]
    }
   ],
   "source": [
    "def harmonic(suku):\n",
    "    if suku < 2:\n",
    "        return 1\n",
    "    else:\n",
    "        return 1/suku + (harmonic(suku-1))\n",
    "print(harmonic(4))"
   ]
  },
  {
   "cell_type": "markdown",
   "id": "b29e00f6",
   "metadata": {
    "id": "b29e00f6"
   },
   "source": [
    "## Good Job!"
   ]
  }
 ],
 "metadata": {
  "colab": {
   "collapsed_sections": [],
   "name": "python_tugas_2.ipynb",
   "provenance": []
  },
  "kernelspec": {
   "display_name": "Python 3 (ipykernel)",
   "language": "python",
   "name": "python3"
  },
  "language_info": {
   "codemirror_mode": {
    "name": "ipython",
    "version": 3
   },
   "file_extension": ".py",
   "mimetype": "text/x-python",
   "name": "python",
   "nbconvert_exporter": "python",
   "pygments_lexer": "ipython3",
   "version": "3.9.7"
  }
 },
 "nbformat": 4,
 "nbformat_minor": 5
}
